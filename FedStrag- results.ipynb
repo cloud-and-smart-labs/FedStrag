{
 "cells": [
  {
   "cell_type": "code",
   "execution_count": 41,
   "id": "eb580c68",
   "metadata": {},
   "outputs": [],
   "source": [
    "import os\n",
    "import numpy as np\n",
    "import tensorflow as tf\n",
    "from tensorflow.keras.models import load_model\n",
    "from tensorflow.keras.utils import to_categorical\n",
    "import cv2\n",
    "import pandas as pd\n",
    "import matplotlib.pyplot as plt\n",
    "import json\n",
    "from sklearn.model_selection import KFold\n",
    "from sklearn.metrics import accuracy_score\n",
    "from scipy.stats import ttest_rel"
   ]
  },
  {
   "cell_type": "code",
   "execution_count": 42,
   "id": "951e171a",
   "metadata": {},
   "outputs": [],
   "source": [
    "\n",
    "def getTestDataset(name):\n",
    "    if name == 'mnist':\n",
    "\n",
    "        test_data_dir = 'test'\n",
    "        image_files = os.listdir(test_data_dir)\n",
    "        test_images = []\n",
    "        test_labels = []\n",
    "        for image_file in image_files:\n",
    "            if '.png' not in image_file:\n",
    "                continue\n",
    "            else :\n",
    "                test_labels.append(int(image_file.split('_')[0]))\n",
    "                test_image = cv2.imread(os.path.join(test_data_dir, image_file), cv2.IMREAD_GRAYSCALE)\n",
    "                test_images.append(test_image)\n",
    "\n",
    "        test_images = np.array(test_images, dtype='float32')\n",
    "        test_labels = np.array(test_labels)\n",
    "        test_images = test_images / 255\n",
    "        test_images = test_images.reshape((test_images.shape[0], 28, 28, 1))\n",
    "        test_labels = to_categorical(test_labels, num_classes=10)\n",
    "        return test_images, test_labels\n",
    "    else:\n",
    "        return np.array([]), np.array([])\n",
    "\n",
    "# (x_train, y_train), (x_test, y_test) = tf.keras.datasets.mnist.load_data()\n",
    "x_test, y_test = getTestDataset('mnist')\n",
    "\n",
    "def getModelPredication(modelPath):\n",
    "\n",
    "    print(f'Test data shape is {x_test.shape} and {y_test.shape}')\n",
    "    model = load_model(modelPath)\n",
    "    probs = model.predict(x_test)\n",
    "    prediction = np.argmax(probs, axis=1)\n",
    "    return prediction\n"
   ]
  },
  {
   "cell_type": "code",
   "execution_count": 43,
   "id": "910a3753",
   "metadata": {},
   "outputs": [],
   "source": [
    "\n",
    "def getFedAvgAccuracy():\n",
    "    fedAvgFiles = ['/home/aditya/Desktop/stru_result/final exp/IID/fixted stru/200 iter 5st 3_5/avg/server/Models/globalMetrics.txt',\n",
    "               '/home/aditya/Desktop/stru_result/final exp/IID/fixted stru/200 iter 10st 3_5/avg/server/Models/globalMetrics.txt',\n",
    "               '/home/aditya/Desktop/stru_result/final exp/IID/fixted stru/200 iter 15st 3_5/avg/server/Models/globalMetrics.txt',\n",
    "               '/home/aditya/Desktop/stru_result/final exp/IID/random stru25/200 iter 5st/avg/server/Models/globalMetrics.txt',\n",
    "               '/home/aditya/Desktop/stru_result/final exp/IID/random stru25/200 iter 10st/avg/server/Models/globalMetrics.txt',\n",
    "               '/home/aditya/Desktop/stru_result/final exp/IID/random stru25/200 iter 15st/avg/server/Models/globalMetrics.txt',\n",
    "               '/home/aditya/Desktop/stru_result/final exp/Non-IID/fixted stru/200 iter 5st 3_5/avg/server/Models/globalMetrics.txt',\n",
    "               '/home/aditya/Desktop/stru_result/final exp/Non-IID/fixted stru/200 iter 10st 3_5/avg/server/Models/globalMetrics.txt',\n",
    "               '/home/aditya/Desktop/stru_result/final exp/Non-IID/fixted stru/200 iter 15st 3_5/avg/server/Models/globalMetrics.txt',\n",
    "               '/home/aditya/Desktop/stru_result/final exp/Non-IID/random stru25/200 iter 5st/avg/server/Models/globalMetrics.txt',\n",
    "               '/home/aditya/Desktop/stru_result/final exp/Non-IID/random stru25/200 iter 10st/avg/server/Models/globalMetrics.txt',\n",
    "               '/home/aditya/Desktop/stru_result/final exp/Non-IID/random stru25/200 iter 15st/avg/server/Models/globalMetrics.txt'\n",
    "              ]\n",
    "    fedAvgAccuracies = []\n",
    "    for fname in fedAvgFiles:\n",
    "        with open(fname, \"r\") as file:\n",
    "            content = file.read()\n",
    "            data_dict = json.loads(content)\n",
    "            accuracy = data_dict['accuracy']\n",
    "            accuracy = np.mean(accuracy[-5:])\n",
    "            fedAvgAccuracies.append(accuracy)\n",
    "    return fedAvgAccuracies\n",
    "\n",
    "def getWeightedAvgAccuracy():\n",
    "    weightedAvgFiles = ['/home/aditya/Desktop/stru_result/final exp/IID/fixted stru/200 iter 5st 3_5/weighted_avg/server/Models/globalMetrics.txt',\n",
    "               '/home/aditya/Desktop/stru_result/final exp/IID/fixted stru/200 iter 10st 3_5/weighted_avg/server/Models/globalMetrics.txt',\n",
    "               '/home/aditya/Desktop/stru_result/final exp/IID/fixted stru/200 iter 15st 3_5/weighted_avg/server/Models/globalMetrics.txt',\n",
    "               '/home/aditya/Desktop/stru_result/final exp/IID/random stru25/200 iter 5st/weighted_avg/server/Models/globalMetrics.txt',\n",
    "               '/home/aditya/Desktop/stru_result/final exp/IID/random stru25/200 iter 10st/weighted_avg/server/Models/globalMetrics.txt',\n",
    "               '/home/aditya/Desktop/stru_result/final exp/IID/random stru25/200 iter 15st/weighted_avg/server/Models/globalMetrics.txt',\n",
    "               '/home/aditya/Desktop/stru_result/final exp/Non-IID/fixted stru/200 iter 5st 3_5/weighted_avg/server/Models/globalMetrics.txt',\n",
    "               '/home/aditya/Desktop/stru_result/final exp/Non-IID/fixted stru/200 iter 10st 3_5/weighted_avg/server/Models/globalMetrics.txt',\n",
    "               '/home/aditya/Desktop/stru_result/final exp/Non-IID/fixted stru/200 iter 15st 3_5/weighted_avg/server/Models/globalMetrics.txt',\n",
    "               '/home/aditya/Desktop/stru_result/final exp/Non-IID/random stru25/200 iter 5st/weighted_avg/server/Models/globalMetrics.txt',\n",
    "               '/home/aditya/Desktop/stru_result/final exp/Non-IID/random stru25/200 iter 10st/weighted_avg/server/Models/globalMetrics.txt',\n",
    "               '/home/aditya/Desktop/stru_result/final exp/Non-IID/random stru25/200 iter 15st/weighted_avg/server/Models/globalMetrics.txt'\n",
    "               \n",
    "              ]\n",
    "    weightedAvgAccuracies = []\n",
    "    for fname in weightedAvgFiles:\n",
    "        with open(fname, \"r\") as file:\n",
    "            content = file.read()\n",
    "            data_dict = json.loads(content)\n",
    "            accuracy = data_dict['accuracy']\n",
    "            accuracy = np.mean(accuracy[-5:])\n",
    "            weightedAvgAccuracies.append(accuracy)\n",
    "    return weightedAvgAccuracies"
   ]
  },
  {
   "cell_type": "code",
   "execution_count": 44,
   "id": "b5eb22d7",
   "metadata": {},
   "outputs": [
    {
     "name": "stdout",
     "output_type": "stream",
     "text": [
      "[0.9295400023460388, 0.759280002117157, 0.7391800045967102, 0.9387600064277649, 0.9236600041389466, 0.8925599932670594, 0.7913599967956543, 0.5671800017356873, 0.5369799971580506, 0.7874600052833557, 0.6896999955177308, 0.5651800155639648]\n",
      "[0.9316799998283386, 0.9235999941825866, 0.9287999987602233, 0.9389600038528443, 0.9261600136756897, 0.9203799962997437, 0.8239199995994568, 0.5781800031661988, 0.5805999994277954, 0.8328799962997436, 0.8005799889564514, 0.7111000061035156]\n"
     ]
    }
   ],
   "source": [
    "fedAvgstat = getFedAvgAccuracy()\n",
    "weightedAvgweighted = getWeightedAvgAccuracy()\n",
    "print(fedAvgstat)\n",
    "print(weightedAvgweighted)"
   ]
  },
  {
   "cell_type": "code",
   "execution_count": 45,
   "id": "a93087ad",
   "metadata": {},
   "outputs": [
    {
     "data": {
      "image/png": "[encoded data removed]",
      "text/plain": [
       "<Figure size 640x480 with 1 Axes>"
      ]
     },
     "metadata": {},
     "output_type": "display_data"
    }
   ],
   "source": [
    "# Example accuracy vectors (replace these with your actual accuracy scores)\n",
    "model1_accuracy = fedAvgstat\n",
    "model2_accuracy = weightedAvgweighted\n",
    "\n",
    "# Number of data points (assuming both vectors have the same length)\n",
    "num_data_points = len(model1_accuracy)\n",
    "\n",
    "# Create an array representing the index of data points (e.g., [0, 1, 2, ...])\n",
    "x = range(num_data_points)\n",
    "x_label = ['iid+Fix5s', 'iid+Fix10s', 'iid+Fix15s', 'iid+Rnd5s', 'iid+Rnd10s', 'iid+Rnd15s','noniid+Fix5s', 'noniid+Fix10s', 'noniid+Fix15s', 'noniid+Rnd5s', 'noniid+Rnd10s', 'noniid+Rnd15s' ]\n",
    "\n",
    "# Set the width of the bars\n",
    "bar_width = 0.35\n",
    "\n",
    "# Create the bar graph\n",
    "plt.bar(x, model1_accuracy, width=bar_width, label='FedAvg')\n",
    "plt.bar([i + bar_width for i in x], model2_accuracy, width=bar_width, label='FedStrag')\n",
    "\n",
    "# Add labels, title, and legend\n",
    "# plt.xlabel('Performance comparison of strategies on IID and non-IID')\n",
    "plt.ylabel('Accuracy')\n",
    "# plt.title('Comparison of Model Accuracies')\n",
    "plt.xticks([i + bar_width/2 for i in x], [i for i in x_label])\n",
    "plt.xticks(rotation=45, ha='right')\n",
    "\n",
    "plt.legend()\n",
    "\n",
    "# Show the plot\n",
    "plt.tight_layout()\n",
    "plt.show()"
   ]
  },
  {
   "cell_type": "code",
   "execution_count": null,
   "id": "f5437d63",
   "metadata": {},
   "outputs": [],
   "source": []
  },
  {
   "cell_type": "code",
   "execution_count": 49,
   "id": "3aab3daa",
   "metadata": {},
   "outputs": [],
   "source": [
    "def getModelPredication(modelPath, test_data):\n",
    "    model = load_model(modelPath)\n",
    "    probs = model.predict(test_data, verbose=0)\n",
    "    prediction = np.argmax(probs, axis=1)\n",
    "    return prediction\n",
    "\n",
    "def calculatePValue(baseFilepath, propFilepath):\n",
    "    (x_train, y_train), (x_test, y_test) = tf.keras.datasets.mnist.load_data()\n",
    "    # Example accuracy vectors (replace these with your actual accuracy scores)\n",
    "    model1_accuracy = []\n",
    "    model2_accuracy = []\n",
    "\n",
    "    # Example dataset (replace this with your actual dataset)\n",
    "    X = x_train  # Sample feature data (100 samples with 10 features)\n",
    "    y = y_train  # Sample binary labels (0 or 1)\n",
    "\n",
    "    # Set the number of folds for cross-validation\n",
    "    k = 10\n",
    "\n",
    "    # Create k-fold cross-validator\n",
    "    kf = KFold(n_splits=k, shuffle=True, random_state=42)\n",
    "\n",
    "\n",
    "    # Perform k-fold cross-validation and evaluate both models\n",
    "    for train_index, test_index in kf.split(X):\n",
    "        X_train, X_test = X[train_index], X[test_index]\n",
    "        y_train, y_test = y[train_index], y[test_index]\n",
    "\n",
    "        # Replace these lines with training and evaluation of your actual models\n",
    "        model1_predictions = getModelPredication(baseFilepath, X_test)  # Example predictions for Model 1\n",
    "        model2_predictions = getModelPredication(propFilepath, X_test)  # Example predictions for Model 2\n",
    "\n",
    "        model1_accuracy.append(accuracy_score(y_test, model1_predictions))\n",
    "        model2_accuracy.append(accuracy_score(y_test, model2_predictions))\n",
    "\n",
    "    # Perform paired t-test on the accuracy scores\n",
    "    t_stat, p_value = ttest_rel(model1_accuracy, model2_accuracy)\n",
    "\n",
    "    print(f\"t-statistic: {t_stat}\")\n",
    "    print(\"P-value: {:f}\".format(p_value))\n",
    "\n",
    "    # Check if the difference is significant (using a significance level of 0.05)\n",
    "    if p_value < 0.05:\n",
    "        print(\"There is a significant difference in the accuracies of the two models.\")\n",
    "    else:\n",
    "        print(\"There is no significant difference in the accuracies of the two models.\")\n",
    "        \n",
    "    return p_value;\n"
   ]
  },
  {
   "cell_type": "code",
   "execution_count": 52,
   "id": "7c64a590",
   "metadata": {},
   "outputs": [
    {
     "name": "stdout",
     "output_type": "stream",
     "text": [
      "t-statistic: -4.54838709677424\n",
      "P-value: 0.001389\n",
      "There is a significant difference in the accuracies of the two models.\n",
      "P value is of model with fixed with 5 sec straggler on IID data  0.0013891401317366048\n"
     ]
    }
   ],
   "source": [
    "baseFilepath = \"/home/aditya/Desktop/stru_result/final exp/IID/fixted stru/200 iter 5st 3_5/avg/server/Models/model.h5\"\n",
    "propFilepath = \"/home/aditya/Desktop/stru_result/final exp/IID/fixted stru/200 iter 5st 3_5/weighted_avg/server/Models/model.h5\"\n",
    "\n",
    "p_value = calculatePValue(baseFilepath, propFilepath)\n",
    "print('P value is of model with fixed with 5 sec straggler on IID data ', p_value)\n"
   ]
  },
  {
   "cell_type": "code",
   "execution_count": 50,
   "id": "ce338263",
   "metadata": {},
   "outputs": [
    {
     "name": "stdout",
     "output_type": "stream",
     "text": [
      "t-statistic: -124.42760252683831\n",
      "P-value: 0.000000\n",
      "There is a significant difference in the accuracies of the two models.\n",
      "P value is of model with fixed with 10 sec straggler on IID data 7.105386974709444e-16\n"
     ]
    }
   ],
   "source": [
    "baseFilepath = \"/home/aditya/Desktop/stru_result/final exp/IID/fixted stru/200 iter 10st 3_5/avg/server/Models/model.h5\"\n",
    "propFilepath = \"/home/aditya/Desktop/stru_result/final exp/IID/fixted stru/200 iter 10st 3_5/weighted_avg/server/Models/model.h5\"\n",
    "\n",
    "p_value = calculatePValue(baseFilepath, propFilepath)\n",
    "print('P value is of model with fixed with 10 sec straggler on IID data', p_value)\n"
   ]
  },
  {
   "cell_type": "code",
   "execution_count": 51,
   "id": "f4e42ec8",
   "metadata": {},
   "outputs": [
    {
     "name": "stdout",
     "output_type": "stream",
     "text": [
      "t-statistic: -139.98076830498366\n",
      "P-value: 0.000000\n",
      "There is a significant difference in the accuracies of the two models.\n",
      "P value is of model with fixed with 15 sec straggler on IID data 2.4628594203312593e-16\n"
     ]
    }
   ],
   "source": [
    "baseFilepath = \"/home/aditya/Desktop/stru_result/final exp/IID/fixted stru/200 iter 15st 3_5/avg/server/Models/model.h5\"\n",
    "propFilepath = \"/home/aditya/Desktop/stru_result/final exp/IID/fixted stru/200 iter 15st 3_5/weighted_avg/server/Models/model.h5\"\n",
    "\n",
    "p_value = calculatePValue(baseFilepath, propFilepath)\n",
    "print('P value is of model with fixed with 15 sec straggler on IID data', p_value)\n"
   ]
  },
  {
   "cell_type": "code",
   "execution_count": 53,
   "id": "0b288394",
   "metadata": {},
   "outputs": [
    {
     "name": "stdout",
     "output_type": "stream",
     "text": [
      "t-statistic: -6.793558642154317\n",
      "P-value: 0.000080\n",
      "There is a significant difference in the accuracies of the two models.\n",
      "P value is of model with random with 5 sec straggler on IID data 7.963020107956924e-05\n"
     ]
    }
   ],
   "source": [
    "baseFilepath = \"/home/aditya/Desktop/stru_result/final exp/IID/random stru25/200 iter 5st/avg//server/Models/model.h5\"\n",
    "propFilepath = \"/home/aditya/Desktop/stru_result/final exp/IID/random stru25/200 iter 5st/weighted_avg//server/Models/model.h5\"\n",
    "\n",
    "p_value = calculatePValue(baseFilepath, propFilepath)\n",
    "print('P value is of model with random with 5 sec straggler on IID data', p_value)\n"
   ]
  },
  {
   "cell_type": "code",
   "execution_count": 54,
   "id": "3fc7f9a8",
   "metadata": {},
   "outputs": [
    {
     "name": "stdout",
     "output_type": "stream",
     "text": [
      "t-statistic: -9.4848484848486\n",
      "P-value: 0.000006\n",
      "There is a significant difference in the accuracies of the two models.\n",
      "P value is of model with random with 10 sec straggler on IID data 5.547299744760694e-06\n"
     ]
    }
   ],
   "source": [
    "baseFilepath = \"/home/aditya/Desktop/stru_result/final exp/IID/random stru25/200 iter 10st/avg//server/Models/model.h5\"\n",
    "propFilepath = \"/home/aditya/Desktop/stru_result/final exp/IID/random stru25/200 iter 10st/weighted_avg//server/Models/model.h5\"\n",
    "\n",
    "p_value = calculatePValue(baseFilepath, propFilepath)\n",
    "print('P value is of model with random with 10 sec straggler on IID data', p_value)\n"
   ]
  },
  {
   "cell_type": "code",
   "execution_count": 55,
   "id": "be6dd04d",
   "metadata": {},
   "outputs": [
    {
     "name": "stdout",
     "output_type": "stream",
     "text": [
      "t-statistic: -41.95912366194341\n",
      "P-value: 0.000000\n",
      "There is a significant difference in the accuracies of the two models.\n",
      "P value is of model with random with 15 sec straggler on IID data 1.2370114033345123e-11\n"
     ]
    }
   ],
   "source": [
    "baseFilepath = \"/home/aditya/Desktop/stru_result/final exp/IID/random stru25/200 iter 15st/avg//server/Models/model.h5\"\n",
    "propFilepath = \"/home/aditya/Desktop/stru_result/final exp/IID/random stru25/200 iter 15st/weighted_avg//server/Models/model.h5\"\n",
    "\n",
    "p_value = calculatePValue(baseFilepath, propFilepath)\n",
    "print('P value is of model with random with 15 sec straggler on IID data', p_value)\n"
   ]
  },
  {
   "cell_type": "code",
   "execution_count": 56,
   "id": "f8abb403",
   "metadata": {},
   "outputs": [
    {
     "name": "stdout",
     "output_type": "stream",
     "text": [
      "t-statistic: -7.338319404129174\n",
      "P-value: 0.000044\n",
      "There is a significant difference in the accuracies of the two models.\n",
      "P value is of model with fixed with 5 sec straggler on non-IID data  4.3815032127839234e-05\n"
     ]
    }
   ],
   "source": [
    "baseFilepath = \"/home/aditya/Desktop/stru_result/final exp/Non-IID/fixted stru/200 iter 5st 3_5/avg/server/Models/model.h5\"\n",
    "propFilepath = \"/home/aditya/Desktop/stru_result/final exp/Non-IID/fixted stru/200 iter 5st 3_5/weighted_avg/server/Models/model.h5\"\n",
    "\n",
    "p_value = calculatePValue(baseFilepath, propFilepath)\n",
    "print('P value is of model with fixed with 5 sec straggler on non-IID data ', p_value)\n"
   ]
  },
  {
   "cell_type": "code",
   "execution_count": 57,
   "id": "0b2a0561",
   "metadata": {},
   "outputs": [
    {
     "name": "stdout",
     "output_type": "stream",
     "text": [
      "t-statistic: 7.760367536028653\n",
      "P-value: 0.000028\n",
      "There is a significant difference in the accuracies of the two models.\n",
      "P value is of model with fixed with 10 sec straggler on non-IID data  2.8199090861287897e-05\n"
     ]
    }
   ],
   "source": [
    "baseFilepath = \"/home/aditya/Desktop/stru_result/final exp/Non-IID/fixted stru/200 iter 10st 3_5/avg/server/Models/model.h5\"\n",
    "propFilepath = \"/home/aditya/Desktop/stru_result/final exp/Non-IID/fixted stru/200 iter 10st 3_5/weighted_avg/server/Models/model.h5\"\n",
    "\n",
    "p_value = calculatePValue(baseFilepath, propFilepath)\n",
    "print('P value is of model with fixed with 10 sec straggler on non-IID data ', p_value)\n"
   ]
  },
  {
   "cell_type": "code",
   "execution_count": 58,
   "id": "03cac2e8",
   "metadata": {},
   "outputs": [
    {
     "name": "stdout",
     "output_type": "stream",
     "text": [
      "t-statistic: -1.7009659442852045\n",
      "P-value: 0.123162\n",
      "There is no significant difference in the accuracies of the two models.\n",
      "P value is of model with fixed with 15 sec straggler on non-IID data  0.1231615150533414\n"
     ]
    }
   ],
   "source": [
    "baseFilepath = \"/home/aditya/Desktop/stru_result/final exp/Non-IID/fixted stru/200 iter 15st 3_5/avg/server/Models/model.h5\"\n",
    "propFilepath = \"/home/aditya/Desktop/stru_result/final exp/Non-IID/fixted stru/200 iter 15st 3_5/weighted_avg/server/Models/model.h5\"\n",
    "\n",
    "p_value = calculatePValue(baseFilepath, propFilepath)\n",
    "print('P value is of model with fixed with 15 sec straggler on non-IID data ', p_value)\n"
   ]
  },
  {
   "cell_type": "code",
   "execution_count": 59,
   "id": "5724a8e2",
   "metadata": {},
   "outputs": [
    {
     "name": "stdout",
     "output_type": "stream",
     "text": [
      "t-statistic: 16.021237343543422\n",
      "P-value: 0.000000\n",
      "There is a significant difference in the accuracies of the two models.\n",
      "P value is of model with random with 5 sec straggler on non-IID data 6.358630438988351e-08\n"
     ]
    }
   ],
   "source": [
    "baseFilepath = \"/home/aditya/Desktop/stru_result/final exp/Non-IID/random stru25/200 iter 5st/avg//server/Models/model.h5\"\n",
    "propFilepath = \"/home/aditya/Desktop/stru_result/final exp/Non-IID/random stru25/200 iter 5st/weighted_avg//server/Models/model.h5\"\n",
    "\n",
    "p_value = calculatePValue(baseFilepath, propFilepath)\n",
    "print('P value is of model with random with 5 sec straggler on non-IID data', p_value)\n"
   ]
  },
  {
   "cell_type": "code",
   "execution_count": 60,
   "id": "bb0d559c",
   "metadata": {},
   "outputs": [
    {
     "name": "stdout",
     "output_type": "stream",
     "text": [
      "t-statistic: -70.16394293663934\n",
      "P-value: 0.000000\n",
      "There is a significant difference in the accuracies of the two models.\n",
      "P value is of model with random with 10 sec straggler on non-IID data 1.2263088294744023e-13\n"
     ]
    }
   ],
   "source": [
    "baseFilepath = \"/home/aditya/Desktop/stru_result/final exp/Non-IID/random stru25/200 iter 10st/avg//server/Models/model.h5\"\n",
    "propFilepath = \"/home/aditya/Desktop/stru_result/final exp/Non-IID/random stru25/200 iter 10st/weighted_avg//server/Models/model.h5\"\n",
    "\n",
    "p_value = calculatePValue(baseFilepath, propFilepath)\n",
    "print('P value is of model with random with 10 sec straggler on non-IID data', p_value)\n"
   ]
  },
  {
   "cell_type": "code",
   "execution_count": 61,
   "id": "048bdbab",
   "metadata": {},
   "outputs": [
    {
     "name": "stdout",
     "output_type": "stream",
     "text": [
      "t-statistic: -75.02314103622356\n",
      "P-value: 0.000000\n",
      "There is a significant difference in the accuracies of the two models.\n",
      "P value is of model with random with 15 sec straggler on non-IID data 6.718541121294024e-14\n"
     ]
    }
   ],
   "source": [
    "baseFilepath = \"/home/aditya/Desktop/stru_result/final exp/Non-IID/random stru25/200 iter 15st/avg//server/Models/model.h5\"\n",
    "propFilepath = \"/home/aditya/Desktop/stru_result/final exp/Non-IID/random stru25/200 iter 15st/weighted_avg//server/Models/model.h5\"\n",
    "\n",
    "p_value = calculatePValue(baseFilepath, propFilepath)\n",
    "print('P value is of model with random with 15 sec straggler on non-IID data', p_value)\n"
   ]
  }
 ],
 "metadata": {
  "kernelspec": {
   "display_name": "Python 3 (ipykernel)",
   "language": "python",
   "name": "python3"
  },
  "language_info": {
   "codemirror_mode": {
    "name": "ipython",
    "version": 3
   },
   "file_extension": ".py",
   "mimetype": "text/x-python",
   "name": "python",
   "nbconvert_exporter": "python",
   "pygments_lexer": "ipython3",
   "version": "3.9.16"
  }
 },
 "nbformat": 4,
 "nbformat_minor": 5
}
