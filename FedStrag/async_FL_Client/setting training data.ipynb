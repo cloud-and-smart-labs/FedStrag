{
 "cells": [
  {
   "cell_type": "code",
   "execution_count": 21,
   "id": "104534dd",
   "metadata": {},
   "outputs": [],
   "source": [
    "import os\n",
    "import cv2\n",
    "import numpy as np\n",
    "import matplotlib.pyplot as plt\n",
    "import random"
   ]
  },
  {
   "cell_type": "code",
   "execution_count": 19,
   "id": "be18db1c",
   "metadata": {},
   "outputs": [
    {
     "name": "stdout",
     "output_type": "stream",
     "text": [
      "(12000, 28, 28) (12000,)\n",
      "(12000, 28, 28, 1) (12000,)\n"
     ]
    }
   ],
   "source": [
    "data_dir = 'data_mnist'\n",
    "image_files = os.listdir(data_dir)\n",
    "images = []\n",
    "labels = []\n",
    "for image_file in image_files:\n",
    "    if '.png' not in image_file:\n",
    "        continue\n",
    "    else :\n",
    "        labels.append(int(image_file.split('_')[0]))\n",
    "        image = cv2.imread(os.path.join(data_dir, image_file), cv2.IMREAD_GRAYSCALE)\n",
    "        images.append(image)\n",
    "\n",
    "images = np.array(images)\n",
    "labels = np.array(labels)\n",
    "images = images / 255.0\n",
    "images = images.reshape((images.shape[0], 28, 28, 1))\n",
    "# labels = to_categorical(labels)\n",
    "print(images.shape, labels.shape)\n"
   ]
  },
  {
   "cell_type": "code",
   "execution_count": 39,
   "id": "6855dc82",
   "metadata": {},
   "outputs": [
    {
     "name": "stdout",
     "output_type": "stream",
     "text": [
      "At index 10091 lable is 2\n"
     ]
    },
    {
     "data": {
      "image/png": "[encoded data removed]",
      "text/plain": [
       "<Figure size 640x480 with 1 Axes>"
      ]
     },
     "metadata": {},
     "output_type": "display_data"
    }
   ],
   "source": [
    "index = random.randint(0, 12000)\n",
    "plt.imshow(images[index])\n",
    "print(f\"At index {index} lable is {labels[index]}\")"
   ]
  }
 ],
 "metadata": {
  "kernelspec": {
   "display_name": "Python 3 (ipykernel)",
   "language": "python",
   "name": "python3"
  },
  "language_info": {
   "codemirror_mode": {
    "name": "ipython",
    "version": 3
   },
   "file_extension": ".py",
   "mimetype": "text/x-python",
   "name": "python",
   "nbconvert_exporter": "python",
   "pygments_lexer": "ipython3",
   "version": "3.9.16"
  }
 },
 "nbformat": 4,
 "nbformat_minor": 5
}
