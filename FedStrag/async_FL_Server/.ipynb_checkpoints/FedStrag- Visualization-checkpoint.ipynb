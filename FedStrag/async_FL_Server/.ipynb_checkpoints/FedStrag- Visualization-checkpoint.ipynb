{
 "cells": [
  {
   "cell_type": "code",
   "execution_count": 41,
   "id": "eb580c68",
   "metadata": {},
   "outputs": [],
   "source": [
    "import os\n",
    "import numpy as np\n",
    "import tensorflow as tf\n",
    "from tensorflow.keras.models import load_model\n",
    "from tensorflow.keras.utils import to_categorical\n",
    "import cv2\n",
    "import pandas as pd\n",
    "import matplotlib.pyplot as plt\n",
    "import json\n",
    "from sklearn.model_selection import KFold\n",
    "from sklearn.metrics import accuracy_score\n",
    "from scipy.stats import ttest_rel"
   ]
  },
  {
   "cell_type": "code",
   "execution_count": 42,
   "id": "951e171a",
   "metadata": {},
   "outputs": [],
   "source": [
    "\n",
    "def getTestDataset(name):\n",
    "    if name == 'mnist':\n",
    "\n",
    "        test_data_dir = 'test'\n",
    "        image_files = os.listdir(test_data_dir)\n",
    "        test_images = []\n",
    "        test_labels = []\n",
    "        for image_file in image_files:\n",
    "            if '.png' not in image_file:\n",
    "                continue\n",
    "            else :\n",
    "                test_labels.append(int(image_file.split('_')[0]))\n",
    "                test_image = cv2.imread(os.path.join(test_data_dir, image_file), cv2.IMREAD_GRAYSCALE)\n",
    "                test_images.append(test_image)\n",
    "\n",
    "        test_images = np.array(test_images, dtype='float32')\n",
    "        test_labels = np.array(test_labels)\n",
    "        test_images = test_images / 255\n",
    "        test_images = test_images.reshape((test_images.shape[0], 28, 28, 1))\n",
    "        test_labels = to_categorical(test_labels, num_classes=10)\n",
    "        return test_images, test_labels\n",
    "    else:\n",
    "        return np.array([]), np.array([])\n",
    "\n",
    "# (x_train, y_train), (x_test, y_test) = tf.keras.datasets.mnist.load_data()\n",
    "x_test, y_test = getTestDataset('mnist')\n",
    "\n",
    "def getModelPredication(modelPath):\n",
    "\n",
    "    print(f'Test data shape is {x_test.shape} and {y_test.shape}')\n",
    "    model = load_model(modelPath)\n",
    "    probs = model.predict(x_test)\n",
    "    prediction = np.argmax(probs, axis=1)\n",
    "    return prediction\n"
   ]
  },
  {
   "cell_type": "code",
   "execution_count": 43,
   "id": "910a3753",
   "metadata": {},
   "outputs": [],
   "source": [
    "\n",
    "def getFedAvgAccuracy():\n",
    "    fedAvgFiles = ['/home/aditya/Desktop/stru_result/final exp/IID/fixted stru/200 iter 5st 3_5/avg/server/Models/globalMetrics.txt',\n",
    "               '/home/aditya/Desktop/stru_result/final exp/IID/fixted stru/200 iter 10st 3_5/avg/server/Models/globalMetrics.txt',\n",
    "               '/home/aditya/Desktop/stru_result/final exp/IID/fixted stru/200 iter 15st 3_5/avg/server/Models/globalMetrics.txt',\n",
    "               '/home/aditya/Desktop/stru_result/final exp/IID/random stru25/200 iter 5st/avg/server/Models/globalMetrics.txt',\n",
    "               '/home/aditya/Desktop/stru_result/final exp/IID/random stru25/200 iter 10st/avg/server/Models/globalMetrics.txt',\n",
    "               '/home/aditya/Desktop/stru_result/final exp/IID/random stru25/200 iter 15st/avg/server/Models/globalMetrics.txt',\n",
    "               '/home/aditya/Desktop/stru_result/final exp/Non-IID/fixted stru/200 iter 5st 3_5/avg/server/Models/globalMetrics.txt',\n",
    "               '/home/aditya/Desktop/stru_result/final exp/Non-IID/fixted stru/200 iter 10st 3_5/avg/server/Models/globalMetrics.txt',\n",
    "               '/home/aditya/Desktop/stru_result/final exp/Non-IID/fixted stru/200 iter 15st 3_5/avg/server/Models/globalMetrics.txt',\n",
    "               '/home/aditya/Desktop/stru_result/final exp/Non-IID/random stru25/200 iter 5st/avg/server/Models/globalMetrics.txt',\n",
    "               '/home/aditya/Desktop/stru_result/final exp/Non-IID/random stru25/200 iter 10st/avg/server/Models/globalMetrics.txt',\n",
    "               '/home/aditya/Desktop/stru_result/final exp/Non-IID/random stru25/200 iter 15st/avg/server/Models/globalMetrics.txt'\n",
    "              ]\n",
    "    fedAvgAccuracies = []\n",
    "    for fname in fedAvgFiles:\n",
    "        with open(fname, \"r\") as file:\n",
    "            content = file.read()\n",
    "            data_dict = json.loads(content)\n",
    "            accuracy = data_dict['accuracy']\n",
    "            accuracy = np.mean(accuracy[-5:])\n",
    "            fedAvgAccuracies.append(accuracy)\n",
    "    return fedAvgAccuracies\n",
    "\n",
    "def getWeightedAvgAccuracy():\n",
    "    weightedAvgFiles = ['/home/aditya/Desktop/stru_result/final exp/IID/fixted stru/200 iter 5st 3_5/weighted_avg/server/Models/globalMetrics.txt',\n",
    "               '/home/aditya/Desktop/stru_result/final exp/IID/fixted stru/200 iter 10st 3_5/weighted_avg/server/Models/globalMetrics.txt',\n",
    "               '/home/aditya/Desktop/stru_result/final exp/IID/fixted stru/200 iter 15st 3_5/weighted_avg/server/Models/globalMetrics.txt',\n",
    "               '/home/aditya/Desktop/stru_result/final exp/IID/random stru25/200 iter 5st/weighted_avg/server/Models/globalMetrics.txt',\n",
    "               '/home/aditya/Desktop/stru_result/final exp/IID/random stru25/200 iter 10st/weighted_avg/server/Models/globalMetrics.txt',\n",
    "               '/home/aditya/Desktop/stru_result/final exp/IID/random stru25/200 iter 15st/weighted_avg/server/Models/globalMetrics.txt',\n",
    "               '/home/aditya/Desktop/stru_result/final exp/Non-IID/fixted stru/200 iter 5st 3_5/weighted_avg/server/Models/globalMetrics.txt',\n",
    "               '/home/aditya/Desktop/stru_result/final exp/Non-IID/fixted stru/200 iter 10st 3_5/weighted_avg/server/Models/globalMetrics.txt',\n",
    "               '/home/aditya/Desktop/stru_result/final exp/Non-IID/fixted stru/200 iter 15st 3_5/weighted_avg/server/Models/globalMetrics.txt',\n",
    "               '/home/aditya/Desktop/stru_result/final exp/Non-IID/random stru25/200 iter 5st/weighted_avg/server/Models/globalMetrics.txt',\n",
    "               '/home/aditya/Desktop/stru_result/final exp/Non-IID/random stru25/200 iter 10st/weighted_avg/server/Models/globalMetrics.txt',\n",
    "               '/home/aditya/Desktop/stru_result/final exp/Non-IID/random stru25/200 iter 15st/weighted_avg/server/Models/globalMetrics.txt'\n",
    "               \n",
    "              ]\n",
    "    weightedAvgAccuracies = []\n",
    "    for fname in weightedAvgFiles:\n",
    "        with open(fname, \"r\") as file:\n",
    "            content = file.read()\n",
    "            data_dict = json.loads(content)\n",
    "            accuracy = data_dict['accuracy']\n",
    "            accuracy = np.mean(accuracy[-5:])\n",
    "            weightedAvgAccuracies.append(accuracy)\n",
    "    return weightedAvgAccuracies"
   ]
  },
  {
   "cell_type": "code",
   "execution_count": 44,
   "id": "b5eb22d7",
   "metadata": {},
   "outputs": [
    {
     "name": "stdout",
     "output_type": "stream",
     "text": [
      "[0.9295400023460388, 0.759280002117157, 0.7391800045967102, 0.9387600064277649, 0.9236600041389466, 0.8925599932670594, 0.7913599967956543, 0.5671800017356873, 0.5369799971580506, 0.7874600052833557, 0.6896999955177308, 0.5651800155639648]\n",
      "[0.9316799998283386, 0.9235999941825866, 0.9287999987602233, 0.9389600038528443, 0.9261600136756897, 0.9203799962997437, 0.8239199995994568, 0.5781800031661988, 0.5805999994277954, 0.8328799962997436, 0.8005799889564514, 0.7111000061035156]\n"
     ]
    }
   ],
   "source": [
    "fedAvgstat = getFedAvgAccuracy()\n",
    "weightedAvgweighted = getWeightedAvgAccuracy()\n",
    "print(fedAvgstat)\n",
    "print(weightedAvgweighted)"
   ]
  },
  {
   "cell_type": "code",
   "execution_count": 45,
   "id": "a93087ad",
   "metadata": {},
   "outputs": [
    {
     "data": {
      "image/png": "[encoded data removed]",
      "text/plain": [
       "<Figure size 640x480 with 1 Axes>"
      ]
     },
     "metadata": {},
     "output_type": "display_data"
    }
   ],
   "source": [
    "# Example accuracy vectors (replace these with your actual accuracy scores)\n",
    "model1_accuracy = fedAvgstat\n",
    "model2_accuracy = weightedAvgweighted\n",
    "\n",
    "# Number of data points (assuming both vectors have the same length)\n",
    "num_data_points = len(model1_accuracy)\n",
    "\n",
    "# Create an array representing the index of data points (e.g., [0, 1, 2, ...])\n",
    "x = range(num_data_points)\n",
    "x_label = ['iid+Fix5s', 'iid+Fix10s', 'iid+Fix15s', 'iid+Rnd5s', 'iid+Rnd10s', 'iid+Rnd15s','noniid+Fix5s', 'noniid+Fix10s', 'noniid+Fix15s', 'noniid+Rnd5s', 'noniid+Rnd10s', 'noniid+Rnd15s' ]\n",
    "\n",
    "# Set the width of the bars\n",
    "bar_width = 0.35\n",
    "\n",
    "# Create the bar graph\n",
    "plt.bar(x, model1_accuracy, width=bar_width, label='FedAvg')\n",
    "plt.bar([i + bar_width for i in x], model2_accuracy, width=bar_width, label='FedStrag')\n",
    "\n",
    "# Add labels, title, and legend\n",
    "# plt.xlabel('Performance comparison of strategies on IID and non-IID')\n",
    "plt.ylabel('Accuracy')\n",
    "# plt.title('Comparison of Model Accuracies')\n",
    "plt.xticks([i + bar_width/2 for i in x], [i for i in x_label])\n",
    "plt.xticks(rotation=45, ha='right')\n",
    "\n",
    "plt.legend()\n",
    "\n",
    "# Show the plot\n",
    "plt.tight_layout()\n",
    "plt.show()"
   ]
  },
  {
   "cell_type": "code",
   "execution_count": null,
   "id": "f5437d63",
   "metadata": {},
   "outputs": [],
   "source": []
  },
  {
   "cell_type": "code",
   "execution_count": 49,
   "id": "3aab3daa",
   "metadata": {},
   "outputs": [],
   "source": [
    "def getModelPredication(modelPath, test_data):\n",
    "    model = load_model(modelPath)\n",
    "    probs = model.predict(test_data, verbose=0)\n",
    "    prediction = np.argmax(probs, axis=1)\n",
    "    return prediction\n",
    "\n",
    "def calculatePValue(baseFilepath, propFilepath):\n",
    "    (x_train, y_train), (x_test, y_test) = tf.keras.datasets.mnist.load_data()\n",
    "    # Example accuracy vectors (replace these with your actual accuracy scores)\n",
    "    model1_accuracy = []\n",
    "    model2_accuracy = []\n",
    "\n",
    "    # Example dataset (replace this with your actual dataset)\n",
    "    X = x_train  # Sample feature data (100 samples with 10 features)\n",
    "    y = y_train  # Sample binary labels (0 or 1)\n",
    "\n",
    "    # Set the number of folds for cross-validation\n",
    "    k = 10\n",
    "\n",
    "    # Create k-fold cross-validator\n",
    "    kf = KFold(n_splits=k, shuffle=True, random_state=42)\n",
    "\n",
    "\n",
    "    # Perform k-fold cross-validation and evaluate both models\n",
    "    for train_index, test_index in kf.split(X):\n",
    "        X_train, X_test = X[train_index], X[test_index]\n",
    "        y_train, y_test = y[train_index], y[test_index]\n",
    "\n",
    "        # Replace these lines with training and evaluation of your actual models\n",
    "        model1_predictions = getModelPredication(baseFilepath, X_test)  # Example predictions for Model 1\n",
    "        model2_predictions = getModelPredication(propFilepath, X_test)  # Example predictions for Model 2\n",
    "\n",
    "        model1_accuracy.append(accuracy_score(y_test, model1_predictions))\n",
    "        model2_accuracy.append(accuracy_score(y_test, model2_predictions))\n",
    "\n",
    "    # Perform paired t-test on the accuracy scores\n",
    "    t_stat, p_value = ttest_rel(model1_accuracy, model2_accuracy)\n",
    "\n",
    "    print(f\"t-statistic: {t_stat}\")\n",
    "    print(\"P-value: {:f}\".format(p_value))\n",
    "\n",
    "    # Check if the difference is significant (using a significance level of 0.05)\n",
    "    if p_value < 0.05:\n",
    "        print(\"There is a significant difference in the accuracies of the two models.\")\n",
    "    else:\n",
    "        print(\"There is no significant difference in the accuracies of the two models.\")\n",
    "        \n",
    "    return p_value;\n"
   ]
  },
  {
   "cell_type": "code",
   "execution_count": 52,
   "id": "7c64a590",
   "metadata": {},
   "outputs": [
    {
     "name": "stdout",
     "output_type": "stream",
     "text": [
      "t-statistic: -4.54838709677424\n",
      "P-value: 0.001389\n",
      "There is a significant difference in the accuracies of the two models.\n",
      "P value is of model with fixed with 5 sec straggler on IID data  0.0013891401317366048\n"
     ]
    }
   ],
   "source": [
    "baseFilepath = \"/home/aditya/Desktop/stru_result/final exp/IID/fixted stru/200 iter 5st 3_5/avg/server/Models/model.h5\"\n",
    "propFilepath = \"/home/aditya/Desktop/stru_result/final exp/IID/fixted stru/200 iter 5st 3_5/weighted_avg/server/Models/model.h5\"\n",
    "\n",
    "p_value = calculatePValue(baseFilepath, propFilepath)\n",
    "print('P value is of model with fixed with 5 sec straggler on IID data ', p_value)\n"
   ]
  },
  {
   "cell_type": "code",
   "execution_count": 50,
   "id": "ce338263",
   "metadata": {},
   "outputs": [
    {
     "name": "stdout",
     "output_type": "stream",
     "text": [
      "t-statistic: -124.42760252683831\n",
      "P-value: 0.000000\n",
      "There is a significant difference in the accuracies of the two models.\n",
      "P value is of model with fixed with 10 sec straggler on IID data 7.105386974709444e-16\n"
     ]
    }
   ],
   "source": [
    "baseFilepath = \"/home/aditya/Desktop/stru_result/final exp/IID/fixted stru/200 iter 10st 3_5/avg/server/Models/model.h5\"\n",
    "propFilepath = \"/home/aditya/Desktop/stru_result/final exp/IID/fixted stru/200 iter 10st 3_5/weighted_avg/server/Models/model.h5\"\n",
    "\n",
    "p_value = calculatePValue(baseFilepath, propFilepath)\n",
    "print('P value is of model with fixed with 10 sec straggler on IID data', p_value)\n"
   ]
  },
  {
   "cell_type": "code",
   "execution_count": 51,
   "id": "f4e42ec8",
   "metadata": {},
   "outputs": [
    {
     "name": "stdout",
     "output_type": "stream",
     "text": [
      "t-statistic: -139.98076830498366\n",
      "P-value: 0.000000\n",
      "There is a significant difference in the accuracies of the two models.\n",
      "P value is of model with fixed with 15 sec straggler on IID data 2.4628594203312593e-16\n"
     ]
    }
   ],
   "source": [
    "baseFilepath = \"/home/aditya/Desktop/stru_result/final exp/IID/fixted stru/200 iter 15st 3_5/avg/server/Models/model.h5\"\n",
    "propFilepath = \"/home/aditya/Desktop/stru_result/final exp/IID/fixted stru/200 iter 15st 3_5/weighted_avg/server/Models/model.h5\"\n",
    "\n",
    "p_value = calculatePValue(baseFilepath, propFilepath)\n",
    "print('P value is of model with fixed with 15 sec straggler on IID data', p_value)\n"
   ]
  },
  {
   "cell_type": "code",
   "execution_count": 53,
   "id": "0b288394",
   "metadata": {},
   "outputs": [
    {
     "name": "stdout",
     "output_type": "stream",
     "text": [
      "t-statistic: -6.793558642154317\n",
      "P-value: 0.000080\n",
      "There is a significant difference in the accuracies of the two models.\n",
      "P value is of model with random with 5 sec straggler on IID data 7.963020107956924e-05\n"
     ]
    }
   ],
   "source": [
    "baseFilepath = \"/home/aditya/Desktop/stru_result/final exp/IID/random stru25/200 iter 5st/avg//server/Models/model.h5\"\n",
    "propFilepath = \"/home/aditya/Desktop/stru_result/final exp/IID/random stru25/200 iter 5st/weighted_avg//server/Models/model.h5\"\n",
    "\n",
    "p_value = calculatePValue(baseFilepath, propFilepath)\n",
    "print('P value is of model with random with 5 sec straggler on IID data', p_value)\n"
   ]
  },
  {
   "cell_type": "code",
   "execution_count": 54,
   "id": "3fc7f9a8",
   "metadata": {},
   "outputs": [
    {
     "name": "stdout",
     "output_type": "stream",
     "text": [
      "t-statistic: -9.4848484848486\n",
      "P-value: 0.000006\n",
      "There is a significant difference in the accuracies of the two models.\n",
      "P value is of model with random with 10 sec straggler on IID data 5.547299744760694e-06\n"
     ]
    }
   ],
   "source": [
    "baseFilepath = \"/home/aditya/Desktop/stru_result/final exp/IID/random stru25/200 iter 10st/avg//server/Models/model.h5\"\n",
    "propFilepath = \"/home/aditya/Desktop/stru_result/final exp/IID/random stru25/200 iter 10st/weighted_avg//server/Models/model.h5\"\n",
    "\n",
    "p_value = calculatePValue(baseFilepath, propFilepath)\n",
    "print('P value is of model with random with 10 sec straggler on IID data', p_value)\n"
   ]
  },
  {
   "cell_type": "code",
   "execution_count": 55,
   "id": "be6dd04d",
   "metadata": {},
   "outputs": [
    {
     "name": "stdout",
     "output_type": "stream",
     "text": [
      "t-statistic: -41.95912366194341\n",
      "P-value: 0.000000\n",
      "There is a significant difference in the accuracies of the two models.\n",
      "P value is of model with random with 15 sec straggler on IID data 1.2370114033345123e-11\n"
     ]
    }
   ],
   "source": [
    "baseFilepath = \"/home/aditya/Desktop/stru_result/final exp/IID/random stru25/200 iter 15st/avg//server/Models/model.h5\"\n",
    "propFilepath = \"/home/aditya/Desktop/stru_result/final exp/IID/random stru25/200 iter 15st/weighted_avg//server/Models/model.h5\"\n",
    "\n",
    "p_value = calculatePValue(baseFilepath, propFilepath)\n",
    "print('P value is of model with random with 15 sec straggler on IID data', p_value)\n"
   ]
  },
  {
   "cell_type": "code",
   "execution_count": 56,
   "id": "f8abb403",
   "metadata": {},
   "outputs": [
    {
     "name": "stdout",
     "output_type": "stream",
     "text": [
      "t-statistic: -7.338319404129174\n",
      "P-value: 0.000044\n",
      "There is a significant difference in the accuracies of the two models.\n",
      "P value is of model with fixed with 5 sec straggler on non-IID data  4.3815032127839234e-05\n"
     ]
    }
   ],
   "source": [
    "baseFilepath = \"/home/aditya/Desktop/stru_result/final exp/Non-IID/fixted stru/200 iter 5st 3_5/avg/server/Models/model.h5\"\n",
    "propFilepath = \"/home/aditya/Desktop/stru_result/final exp/Non-IID/fixted stru/200 iter 5st 3_5/weighted_avg/server/Models/model.h5\"\n",
    "\n",
    "p_value = calculatePValue(baseFilepath, propFilepath)\n",
    "print('P value is of model with fixed with 5 sec straggler on non-IID data ', p_value)\n"
   ]
  },
  {
   "cell_type": "code",
   "execution_count": 57,
   "id": "0b2a0561",
   "metadata": {},
   "outputs": [
    {
     "name": "stdout",
     "output_type": "stream",
     "text": [
      "t-statistic: 7.760367536028653\n",
      "P-value: 0.000028\n",
      "There is a significant difference in the accuracies of the two models.\n",
      "P value is of model with fixed with 10 sec straggler on non-IID data  2.8199090861287897e-05\n"
     ]
    }
   ],
   "source": [
    "baseFilepath = \"/home/aditya/Desktop/stru_result/final exp/Non-IID/fixted stru/200 iter 10st 3_5/avg/server/Models/model.h5\"\n",
    "propFilepath = \"/home/aditya/Desktop/stru_result/final exp/Non-IID/fixted stru/200 iter 10st 3_5/weighted_avg/server/Models/model.h5\"\n",
    "\n",
    "p_value = calculatePValue(baseFilepath, propFilepath)\n",
    "print('P value is of model with fixed with 10 sec straggler on non-IID data ', p_value)\n"
   ]
  },
  {
   "cell_type": "code",
   "execution_count": 58,
   "id": "03cac2e8",
   "metadata": {},
   "outputs": [
    {
     "name": "stdout",
     "output_type": "stream",
     "text": [
      "t-statistic: -1.7009659442852045\n",
      "P-value: 0.123162\n",
      "There is no significant difference in the accuracies of the two models.\n",
      "P value is of model with fixed with 15 sec straggler on non-IID data  0.1231615150533414\n"
     ]
    }
   ],
   "source": [
    "baseFilepath = \"/home/aditya/Desktop/stru_result/final exp/Non-IID/fixted stru/200 iter 15st 3_5/avg/server/Models/model.h5\"\n",
    "propFilepath = \"/home/aditya/Desktop/stru_result/final exp/Non-IID/fixted stru/200 iter 15st 3_5/weighted_avg/server/Models/model.h5\"\n",
    "\n",
    "p_value = calculatePValue(baseFilepath, propFilepath)\n",
    "print('P value is of model with fixed with 15 sec straggler on non-IID data ', p_value)\n"
   ]
  },
  {
   "cell_type": "code",
   "execution_count": 59,
   "id": "5724a8e2",
   "metadata": {},
   "outputs": [
    {
     "name": "stdout",
     "output_type": "stream",
     "text": [
      "t-statistic: 16.021237343543422\n",
      "P-value: 0.000000\n",
      "There is a significant difference in the accuracies of the two models.\n",
      "P value is of model with random with 5 sec straggler on non-IID data 6.358630438988351e-08\n"
     ]
    }
   ],
   "source": [
    "baseFilepath = \"/home/aditya/Desktop/stru_result/final exp/Non-IID/random stru25/200 iter 5st/avg//server/Models/model.h5\"\n",
    "propFilepath = \"/home/aditya/Desktop/stru_result/final exp/Non-IID/random stru25/200 iter 5st/weighted_avg//server/Models/model.h5\"\n",
    "\n",
    "p_value = calculatePValue(baseFilepath, propFilepath)\n",
    "print('P value is of model with random with 5 sec straggler on non-IID data', p_value)\n"
   ]
  },
  {
   "cell_type": "code",
   "execution_count": 60,
   "id": "bb0d559c",
   "metadata": {},
   "outputs": [
    {
     "name": "stdout",
     "output_type": "stream",
     "text": [
      "t-statistic: -70.16394293663934\n",
      "P-value: 0.000000\n",
      "There is a significant difference in the accuracies of the two models.\n",
      "P value is of model with random with 10 sec straggler on non-IID data 1.2263088294744023e-13\n"
     ]
    }
   ],
   "source": [
    "baseFilepath = \"/home/aditya/Desktop/stru_result/final exp/Non-IID/random stru25/200 iter 10st/avg//server/Models/model.h5\"\n",
    "propFilepath = \"/home/aditya/Desktop/stru_result/final exp/Non-IID/random stru25/200 iter 10st/weighted_avg//server/Models/model.h5\"\n",
    "\n",
    "p_value = calculatePValue(baseFilepath, propFilepath)\n",
    "print('P value is of model with random with 10 sec straggler on non-IID data', p_value)\n"
   ]
  },
  {
   "cell_type": "code",
   "execution_count": 61,
   "id": "048bdbab",
   "metadata": {},
   "outputs": [
    {
     "name": "stdout",
     "output_type": "stream",
     "text": [
      "t-statistic: -75.02314103622356\n",
      "P-value: 0.000000\n",
      "There is a significant difference in the accuracies of the two models.\n",
      "P value is of model with random with 15 sec straggler on non-IID data 6.718541121294024e-14\n"
     ]
    }
   ],
   "source": [
    "baseFilepath = \"/home/aditya/Desktop/stru_result/final exp/Non-IID/random stru25/200 iter 15st/avg//server/Models/model.h5\"\n",
    "propFilepath = \"/home/aditya/Desktop/stru_result/final exp/Non-IID/random stru25/200 iter 15st/weighted_avg//server/Models/model.h5\"\n",
    "\n",
    "p_value = calculatePValue(baseFilepath, propFilepath)\n",
    "print('P value is of model with random with 15 sec straggler on non-IID data', p_value)\n"
   ]
  },
  {
   "cell_type": "code",
   "execution_count": 9,
   "id": "8f4f2cef",
   "metadata": {},
   "outputs": [
    {
     "data": {
      "text/plain": [
       "array([5, 0, 4, ..., 5, 6, 8], dtype=uint8)"
      ]
     },
     "execution_count": 9,
     "metadata": {},
     "output_type": "execute_result"
    }
   ],
   "source": [
    "y_train"
   ]
  },
  {
   "cell_type": "code",
   "execution_count": null,
   "id": "b3a9f58d",
   "metadata": {},
   "outputs": [],
   "source": [
    "******************************************************************************************************************"
   ]
  },
  {
   "cell_type": "code",
   "execution_count": null,
   "id": "2bf820ee",
   "metadata": {},
   "outputs": [],
   "source": [
    "import os\n",
    "import numpy as np\n",
    "import tensorflow as tf\n",
    "from tensorflow.keras.models import load_model\n",
    "from tensorflow.keras.utils import to_categorical\n",
    "import cv2\n",
    "import pandas as pd\n",
    "import matplotlib.pyplot as plt\n",
    "from scipy.stats import chisquare\n",
    "from scipy.stats import chi2_contingency\n"
   ]
  },
  {
   "cell_type": "code",
   "execution_count": 37,
   "id": "7c1c1ffc",
   "metadata": {},
   "outputs": [],
   "source": [
    "baseFilepath = \"/home/aditya/Desktop/stru_result/final exp/Non-IID/fixted stru/200 iter 5st 3_5/avg/server/Models/model.h5\"\n",
    "propFilepath = \"/home/aditya/Desktop/stru_result/final exp/Non-IID/fixted stru/200 iter 5st 3_5/weighted_avg/server/Models/model.h5\"\n",
    "def getModelPredication(modelPath):\n",
    "\n",
    "#     x_test, y_test = getTestDataset('mnist')\n",
    "    print(f'Test data shape is {x_test.shape} and {y_test.shape}')\n",
    "    model = load_model(modelPath)\n",
    "    probs = model.predict(x_test)\n",
    "    prediction = np.argmax(probs, axis=1)\n",
    "    return prediction"
   ]
  },
  {
   "cell_type": "code",
   "execution_count": 39,
   "id": "c7cbe565",
   "metadata": {},
   "outputs": [
    {
     "name": "stdout",
     "output_type": "stream",
     "text": [
      "Test data shape is (10000, 28, 28) and (10000,)\n",
      "313/313 [==============================] - 1s 3ms/step\n",
      "Test data shape is (10000, 28, 28) and (10000,)\n",
      "313/313 [==============================] - 1s 2ms/step\n",
      "[7 2 1 ... 4 5 6]\n"
     ]
    }
   ],
   "source": [
    "baseAlgo_pred = getModelPredication(baseFilepath)\n",
    "propAlgo_pred = getModelPredication(propFilepath)\n",
    "# print(baseAlgo_pred.shape)\n",
    "print(y_test)"
   ]
  },
  {
   "cell_type": "code",
   "execution_count": 198,
   "id": "600872ef",
   "metadata": {},
   "outputs": [
    {
     "name": "stdout",
     "output_type": "stream",
     "text": [
      "{0, 1, 2, 3, 4, 5, 6, 7, 8, 9}\n"
     ]
    }
   ],
   "source": [
    "(x_train, y_train), (x_test, y_test) = tf.keras.datasets.mnist.load_data()\n",
    "expted_value = y_test\n",
    "# model = load_model(\"/home/aditya/Desktop/stru_result/final exp/Non-IID/random stru25/200 iter 5st/weighted_avg/server/Models/model.h5\")\n",
    "# probs = model.predict(x_test)\n",
    "# y_test = to_categorical(y_test)\n",
    "# probs = model.evaluate(x_test, y_test)\n",
    "temp_s = set(propAlgo_pred)\n",
    "print(temp_s)"
   ]
  },
  {
   "cell_type": "code",
   "execution_count": 31,
   "id": "9b5e7403",
   "metadata": {},
   "outputs": [
    {
     "ename": "NameError",
     "evalue": "name 'expted_value' is not defined",
     "output_type": "error",
     "traceback": [
      "\u001b[0;31m---------------------------------------------------------------------------\u001b[0m",
      "\u001b[0;31mNameError\u001b[0m                                 Traceback (most recent call last)",
      "Cell \u001b[0;32mIn[31], line 2\u001b[0m\n\u001b[1;32m      1\u001b[0m \u001b[38;5;66;03m# Perform chi-square test\u001b[39;00m\n\u001b[0;32m----> 2\u001b[0m observed_values \u001b[38;5;241m=\u001b[39m np\u001b[38;5;241m.\u001b[39mhistogram2d(baseAlgo_pred, \u001b[43mexpted_value\u001b[49m, bins\u001b[38;5;241m=\u001b[39m\u001b[38;5;241m10\u001b[39m)[\u001b[38;5;241m0\u001b[39m]\n\u001b[1;32m      3\u001b[0m chi2, p_value, _, _ \u001b[38;5;241m=\u001b[39m chi2_contingency(observed_values)\n\u001b[1;32m      5\u001b[0m \u001b[38;5;28mprint\u001b[39m(\u001b[38;5;124mf\u001b[39m\u001b[38;5;124m\"\u001b[39m\u001b[38;5;124mChi-square statistic: \u001b[39m\u001b[38;5;132;01m{\u001b[39;00mchi2\u001b[38;5;132;01m:\u001b[39;00m\u001b[38;5;124m.4f\u001b[39m\u001b[38;5;132;01m}\u001b[39;00m\u001b[38;5;124m\"\u001b[39m)\n",
      "\u001b[0;31mNameError\u001b[0m: name 'expted_value' is not defined"
     ]
    }
   ],
   "source": [
    "# Perform chi-square test\n",
    "observed_values = np.histogram2d(baseAlgo_pred, expted_value, bins=10)[0]\n",
    "chi2, p_value, _, _ = chi2_contingency(observed_values)\n",
    "\n",
    "print(f\"Chi-square statistic: {chi2:.4f}\")\n",
    "print(f\"P-value: {p_value:.12f}\")"
   ]
  },
  {
   "cell_type": "code",
   "execution_count": 30,
   "id": "e035076e",
   "metadata": {},
   "outputs": [
    {
     "name": "stdout",
     "output_type": "stream",
     "text": [
      "Chi-square statistic: 60023.2117\n",
      "P-value: 0.000000000000\n"
     ]
    }
   ],
   "source": [
    "# Perform chi-square test\n",
    "observed_values = np.histogram2d(baseAlgo_pred, propAlgo_pred)[0]\n",
    "chi2, p_value, _, _ = chi2_contingency(observed_values)\n",
    "\n",
    "print(f\"Chi-square statistic: {chi2:.4f}\")\n",
    "print(f\"P-value: {p_value:.12f}\")"
   ]
  },
  {
   "cell_type": "code",
   "execution_count": 182,
   "id": "daa3476e",
   "metadata": {},
   "outputs": [
    {
     "name": "stdout",
     "output_type": "stream",
     "text": [
      "0.0\n"
     ]
    }
   ],
   "source": [
    "def chi_squared_test(model1_predictions, model2_predictions):\n",
    "  \"\"\"Conducts a Chi-squared test for two different models trained on the MNIST dataset.\n",
    "\n",
    "  Args:\n",
    "    model1_predictions: A list of predictions from the first model.\n",
    "    model2_predictions: A list of predictions from the second model.\n",
    "\n",
    "  Returns:\n",
    "    A tuple of the Chi-squared test statistic and the p-value.\n",
    "  \"\"\"\n",
    "\n",
    "  observed_distribution = np.array([\n",
    "      sum(model1_predictions == i) for i in range(10)\n",
    "  ])\n",
    "  expected_distribution = np.array([\n",
    "      sum(model2_predictions == i) for i in range(10)\n",
    "  ])\n",
    "    \n",
    "  chi_squared_statistic, p_value = chisquare(observed_distribution, expected_distribution)\n",
    "\n",
    "  return chi_squared_statistic, p_value\n",
    "chi_squared_statistic, p_value =chi_squared_test(baseAlgo_pred, propAlgo_pred)\n",
    "print(p_value)"
   ]
  },
  {
   "cell_type": "code",
   "execution_count": 189,
   "id": "8a56ef3c",
   "metadata": {},
   "outputs": [
    {
     "name": "stdout",
     "output_type": "stream",
     "text": [
      "27961.861544203242\n",
      "0.0\n",
      "The models have significantly different performances.\n"
     ]
    }
   ],
   "source": [
    "contingency_table = pd.crosstab(baseAlgo_pred, propAlgo_pred)\n",
    "chi2, p_value, _, _ = chi2_contingency(contingency_table)\n",
    "print(chi2)\n",
    "print(p_value)\n",
    "significance_level = 0.05  # Choose your desired significance level\n",
    "if p_value < significance_level:\n",
    "    print(\"The models have significantly different performances.\")\n",
    "else:\n",
    "    print(\"There is no significant difference in the performances of the models.\")"
   ]
  },
  {
   "cell_type": "code",
   "execution_count": 190,
   "id": "5de5ec6f",
   "metadata": {},
   "outputs": [
    {
     "name": "stdout",
     "output_type": "stream",
     "text": [
      "col_0     0     1    2     3    6     7\n",
      "row_0                                  \n",
      "0      1162     0   70    68   54     8\n",
      "1        15  1437  160   170   48   176\n",
      "2        72    27  460    23   85    21\n",
      "3        37     1    0  1179    1    89\n",
      "4        33     5  442    50  359   989\n",
      "5        46     2   11   161   85    46\n",
      "6        11     0   27     9  839     1\n",
      "7         5     0   11    25    1  1479\n"
     ]
    }
   ],
   "source": [
    "print(contingency_table)"
   ]
  },
  {
   "cell_type": "code",
   "execution_count": null,
   "id": "0ae88d14",
   "metadata": {},
   "outputs": [],
   "source": [
    "------------------------------------------------------------------------"
   ]
  },
  {
   "cell_type": "code",
   "execution_count": 4,
   "id": "5999ae01",
   "metadata": {},
   "outputs": [],
   "source": [
    "import numpy as np\n",
    "import json\n",
    "from scipy.stats import ttest_ind\n"
   ]
  },
  {
   "cell_type": "code",
   "execution_count": 10,
   "id": "d769ad17",
   "metadata": {},
   "outputs": [
    {
     "name": "stdout",
     "output_type": "stream",
     "text": [
      "[0.9295400023460388, 0.759280002117157, 0.7391800045967102, 0.9387600064277649, 0.9236600041389466, 0.8925599932670594, 0.7913599967956543, 0.5671800017356873, 0.5369799971580506, 0.7874600052833557, 0.6896999955177308, 0.5651800155639648]\n",
      "[0.9316799998283386, 0.9235999941825866, 0.9287999987602233, 0.9389600038528443, 0.9261600136756897, 0.9203799962997437, 0.8239199995994568, 0.5781800031661988, 0.5805999994277954, 0.8328799962997436, 0.8005799889564514, 0.7111000061035156]\n"
     ]
    }
   ],
   "source": []
  },
  {
   "cell_type": "code",
   "execution_count": 11,
   "id": "617022e3",
   "metadata": {},
   "outputs": [
    {
     "name": "stdout",
     "output_type": "stream",
     "text": [
      "t-statistic: -1.1258060855660303\n",
      "p-value: 0.272379525571181\n",
      "There is no significant difference between the accuracies of the two models.\n"
     ]
    }
   ],
   "source": [
    "# Perform the t-test\n",
    "t_stat, p_value = ttest_ind(fedAvgstat, weightedAvgweighted)\n",
    "\n",
    "print(f\"t-statistic: {t_stat}\")\n",
    "print(f\"p-value: {p_value}\")\n",
    "\n",
    "# Check if the difference is significant (using a significance level of 0.05)\n",
    "if p_value < 0.05:\n",
    "    print(\"There is a significant difference between the accuracies of the two models.\")\n",
    "else:\n",
    "    print(\"There is no significant difference between the accuracies of the two models.\")\n"
   ]
  },
  {
   "cell_type": "code",
   "execution_count": 12,
   "id": "c19ba9b9",
   "metadata": {},
   "outputs": [
    {
     "name": "stdout",
     "output_type": "stream",
     "text": [
      "Mann-Whitney U statistic: 49.0\n",
      "p-value: 0.1939308522824107\n",
      "There is no significant difference between the accuracies of the two models.\n"
     ]
    }
   ],
   "source": [
    "from scipy.stats import mannwhitneyu\n",
    "\n",
    "# Perform the Mann-Whitney U test\n",
    "u_stat, p_value = mannwhitneyu(fedAvgstat, weightedAvgweighted)\n",
    "\n",
    "print(f\"Mann-Whitney U statistic: {u_stat}\")\n",
    "print(f\"p-value: {p_value}\")\n",
    "\n",
    "# Check if the difference is significant (using a significance level of 0.05)\n",
    "if p_value < 0.05:\n",
    "    print(\"There is a significant difference between the accuracies of the two models.\")\n",
    "else:\n",
    "    print(\"There is no significant difference between the accuracies of the two models.\")"
   ]
  },
  {
   "cell_type": "code",
   "execution_count": 14,
   "id": "adcc3e8e",
   "metadata": {},
   "outputs": [
    {
     "data": {
      "image/png": "[encoded data removed]",
      "text/plain": [
       "<Figure size 640x480 with 1 Axes>"
      ]
     },
     "metadata": {},
     "output_type": "display_data"
    }
   ],
   "source": [
    "import matplotlib.pyplot as plt\n",
    "\n"
   ]
  },
  {
   "cell_type": "code",
   "execution_count": 17,
   "id": "ddb93869",
   "metadata": {},
   "outputs": [
    {
     "data": {
      "image/png": "[encoded data removed]",
      "text/plain": [
       "<Figure size 640x480 with 1 Axes>"
      ]
     },
     "metadata": {},
     "output_type": "display_data"
    }
   ],
   "source": [
    "# Data to plot\n",
    "data_to_plot = [fedAvgstat, weightedAvgweighted]\n",
    "\n",
    "# Labels for the box plot\n",
    "labels = ['FedAvg', 'WeightedAvg']\n",
    "\n",
    "# Create the box plot\n",
    "plt.boxplot(data_to_plot, labels=labels, showmeans=True)\n",
    "\n",
    "# Add labels and title\n",
    "plt.xlabel('Models')\n",
    "plt.ylabel('Accuracy')\n",
    "plt.title('Comparison of Model Accuracies')\n",
    "\n",
    "# Show the plot\n",
    "plt.show()"
   ]
  },
  {
   "cell_type": "code",
   "execution_count": 16,
   "id": "eafc701f",
   "metadata": {},
   "outputs": [
    {
     "name": "stdout",
     "output_type": "stream",
     "text": [
      "Collecting mlxtend\n",
      "  Downloading mlxtend-0.22.0-py2.py3-none-any.whl (1.4 MB)\n",
      "\u001b[2K     \u001b[38;2;114;156;31m━━━━━━━━━━━━━━━━━━━━━━━━━━━━━━━━━━━━━━━━\u001b[0m \u001b[32m1.4/1.4 MB\u001b[0m \u001b[31m4.2 MB/s\u001b[0m eta \u001b[36m0:00:00\u001b[0mm eta \u001b[36m0:00:01\u001b[0m0:01\u001b[0m:01\u001b[0m\n",
      "\u001b[?25hRequirement already satisfied: scipy>=1.2.1 in /home/aditya/anaconda3/lib/python3.9/site-packages (from mlxtend) (1.7.3)\n",
      "Requirement already satisfied: numpy>=1.16.2 in /home/aditya/anaconda3/lib/python3.9/site-packages (from mlxtend) (1.22.4)\n",
      "Requirement already satisfied: pandas>=0.24.2 in /home/aditya/anaconda3/lib/python3.9/site-packages (from mlxtend) (1.5.3)\n",
      "Requirement already satisfied: scikit-learn>=1.0.2 in /home/aditya/anaconda3/lib/python3.9/site-packages (from mlxtend) (1.2.2)\n",
      "Requirement already satisfied: matplotlib>=3.0.0 in /home/aditya/anaconda3/lib/python3.9/site-packages (from mlxtend) (3.7.1)\n",
      "Requirement already satisfied: joblib>=0.13.2 in /home/aditya/anaconda3/lib/python3.9/site-packages (from mlxtend) (1.1.1)\n",
      "Requirement already satisfied: setuptools in /home/aditya/anaconda3/lib/python3.9/site-packages (from mlxtend) (66.0.0)\n",
      "Requirement already satisfied: contourpy>=1.0.1 in /home/aditya/anaconda3/lib/python3.9/site-packages (from matplotlib>=3.0.0->mlxtend) (1.0.5)\n",
      "Requirement already satisfied: cycler>=0.10 in /home/aditya/anaconda3/lib/python3.9/site-packages (from matplotlib>=3.0.0->mlxtend) (0.11.0)\n",
      "Requirement already satisfied: fonttools>=4.22.0 in /home/aditya/anaconda3/lib/python3.9/site-packages (from matplotlib>=3.0.0->mlxtend) (4.25.0)\n",
      "Requirement already satisfied: kiwisolver>=1.0.1 in /home/aditya/anaconda3/lib/python3.9/site-packages (from matplotlib>=3.0.0->mlxtend) (1.4.4)\n",
      "Requirement already satisfied: packaging>=20.0 in /home/aditya/anaconda3/lib/python3.9/site-packages (from matplotlib>=3.0.0->mlxtend) (22.0)\n",
      "Requirement already satisfied: pillow>=6.2.0 in /home/aditya/anaconda3/lib/python3.9/site-packages (from matplotlib>=3.0.0->mlxtend) (9.4.0)\n",
      "Requirement already satisfied: pyparsing>=2.3.1 in /home/aditya/anaconda3/lib/python3.9/site-packages (from matplotlib>=3.0.0->mlxtend) (3.0.9)\n",
      "Requirement already satisfied: python-dateutil>=2.7 in /home/aditya/anaconda3/lib/python3.9/site-packages (from matplotlib>=3.0.0->mlxtend) (2.8.2)\n",
      "Requirement already satisfied: importlib-resources>=3.2.0 in /home/aditya/anaconda3/lib/python3.9/site-packages (from matplotlib>=3.0.0->mlxtend) (5.2.0)\n",
      "Requirement already satisfied: pytz>=2020.1 in /home/aditya/anaconda3/lib/python3.9/site-packages (from pandas>=0.24.2->mlxtend) (2022.7)\n",
      "Requirement already satisfied: threadpoolctl>=2.0.0 in /home/aditya/anaconda3/lib/python3.9/site-packages (from scikit-learn>=1.0.2->mlxtend) (2.2.0)\n",
      "Requirement already satisfied: zipp>=3.1.0 in /home/aditya/anaconda3/lib/python3.9/site-packages (from importlib-resources>=3.2.0->matplotlib>=3.0.0->mlxtend) (3.11.0)\n",
      "Requirement already satisfied: six>=1.5 in /home/aditya/anaconda3/lib/python3.9/site-packages (from python-dateutil>=2.7->matplotlib>=3.0.0->mlxtend) (1.16.0)\n",
      "Installing collected packages: mlxtend\n",
      "Successfully installed mlxtend-0.22.0\n",
      "\n",
      "\u001b[1m[\u001b[0m\u001b[34;49mnotice\u001b[0m\u001b[1;39;49m]\u001b[0m\u001b[39;49m A new release of pip is available: \u001b[0m\u001b[31;49m23.1.2\u001b[0m\u001b[39;49m -> \u001b[0m\u001b[32;49m23.2\u001b[0m\n",
      "\u001b[1m[\u001b[0m\u001b[34;49mnotice\u001b[0m\u001b[1;39;49m]\u001b[0m\u001b[39;49m To update, run: \u001b[0m\u001b[32;49mpip install --upgrade pip\u001b[0m\n"
     ]
    }
   ],
   "source": [
    "!pip install mlxtend"
   ]
  },
  {
   "cell_type": "code",
   "execution_count": 20,
   "id": "04c703c7",
   "metadata": {},
   "outputs": [
    {
     "data": {
      "text/plain": [
       "[0.9316799998283386,\n",
       " 0.9235999941825866,\n",
       " 0.9287999987602233,\n",
       " 0.9389600038528443,\n",
       " 0.9261600136756897,\n",
       " 0.9203799962997437,\n",
       " 0.8239199995994568,\n",
       " 0.5781800031661988,\n",
       " 0.5805999994277954,\n",
       " 0.8328799962997436,\n",
       " 0.8005799889564514,\n",
       " 0.7111000061035156]"
      ]
     },
     "execution_count": 20,
     "metadata": {},
     "output_type": "execute_result"
    }
   ],
   "source": [
    "weightedAvgweighted"
   ]
  },
  {
   "cell_type": "code",
   "execution_count": 27,
   "id": "aa33bbe5",
   "metadata": {},
   "outputs": [
    {
     "name": "stdout",
     "output_type": "stream",
     "text": [
      "McNemar's test statistic: 1812.0005512679163\n",
      "P-value: 0.0\n",
      "There is a significant difference in the performance of the two models.\n"
     ]
    }
   ],
   "source": [
    "import numpy as np\n",
    "from scipy.stats import chi2\n",
    "\n",
    "# Example model predictions (replace these with your actual predictions)\n",
    "model1_predictions = baseAlgo_pred\n",
    "model2_predictions = propAlgo_pred\n",
    "\n",
    "# Create a contingency table\n",
    "contingency_table = np.array([[0, 0], [0, 0]])\n",
    "\n",
    "for pred1, pred2 in zip(model1_predictions, model2_predictions):\n",
    "    if pred1 == pred2:\n",
    "        if pred1 == 1:\n",
    "            contingency_table[0, 0] += 1  # Both models correctly predicted as 1\n",
    "        else:\n",
    "            contingency_table[1, 1] += 1  # Both models correctly predicted as 0\n",
    "    else:\n",
    "        if pred1 == 1 and pred2 == 0:\n",
    "            contingency_table[0, 1] += 1  # Model 1 predicted as 1, Model 2 predicted as 0\n",
    "        else:\n",
    "            contingency_table[1, 0] += 1  # Model 1 predicted as 0, Model 2 predicted as 1\n",
    "\n",
    "# Perform McNemar's test\n",
    "b = abs(contingency_table[0, 1] - contingency_table[1, 0]) - 1\n",
    "chi2_stat = b**2 / (contingency_table[0, 1] + contingency_table[1, 0])\n",
    "p_value = 1 - chi2.cdf(chi2_stat, 1)\n",
    "\n",
    "print(f\"McNemar's test statistic: {chi2_stat}\")\n",
    "print(f\"P-value: {p_value}\")\n",
    "\n",
    "# Check if the difference is significant (using a significance level of 0.05)\n",
    "if p_value < 0.05:\n",
    "    print(\"There is a significant difference in the performance of the two models.\")\n",
    "else:\n",
    "    print(\"There is no significant difference in the performance of the two models.\")\n"
   ]
  },
  {
   "cell_type": "code",
   "execution_count": 42,
   "id": "bcd0ee8f",
   "metadata": {},
   "outputs": [
    {
     "name": "stdout",
     "output_type": "stream",
     "text": [
      "Chi-square test statistic: 2702.087017728672\n",
      "P-value: 0.0\n",
      "There is a significant difference in model accuracy.\n"
     ]
    }
   ],
   "source": [
    "import numpy as np\n",
    "from scipy.stats import chi2_contingency\n",
    "\n",
    "# Example model predictions and ground truth labels (replace these with your actual data)\n",
    "model1_predictions = baseAlgo_pred\n",
    "model2_predictions = propAlgo_pred\n",
    "ground_truth = y_test\n",
    "\n",
    "# Create a contingency table\n",
    "contingency_table = np.zeros((2, 2))\n",
    "\n",
    "for pred1, pred2, label in zip(model1_predictions, model2_predictions, ground_truth):\n",
    "    if pred1 == label and pred2 == label:\n",
    "        contingency_table[0, 0] += 1  # Both models correctly predicted the label\n",
    "    elif pred1 != label and pred2 != label:\n",
    "        contingency_table[1, 1] += 1  # Both models incorrectly predicted the label\n",
    "    elif pred1 == label and pred2 != label:\n",
    "        contingency_table[0, 1] += 1  # Model 1 correctly, Model 2 incorrectly\n",
    "    else:\n",
    "        contingency_table[1, 0] += 1  # Model 2 correctly, Model 1 incorrectly\n",
    "\n",
    "# Perform chi-square test\n",
    "chi2_stat, p_value, dof, expected = chi2_contingency(contingency_table)\n",
    "\n",
    "print(f\"Chi-square test statistic: {chi2_stat}\")\n",
    "print(f\"P-value: {p_value}\")\n",
    "\n",
    "# Check if the difference is significant (using a significance level of 0.05)\n",
    "if p_value < 0.05:\n",
    "    print(\"There is a significant difference in model accuracy.\")\n",
    "else:\n",
    "    print(\"There is no significant difference in model accuracy.\")\n"
   ]
  },
  {
   "cell_type": "code",
   "execution_count": 7,
   "id": "70d26e83",
   "metadata": {},
   "outputs": [
    {
     "name": "stderr",
     "output_type": "stream",
     "text": [
      "2023-07-18 14:50:24.792873: I tensorflow/core/platform/cpu_feature_guard.cc:182] This TensorFlow binary is optimized to use available CPU instructions in performance-critical operations.\n",
      "To enable the following instructions: SSE4.1 SSE4.2 AVX AVX2 AVX512F FMA, in other operations, rebuild TensorFlow with the appropriate compiler flags.\n"
     ]
    }
   ],
   "source": [
    "import numpy as np\n",
    "from scipy.stats import ttest_rel\n",
    "from sklearn.model_selection import KFold\n",
    "from sklearn.metrics import accuracy_score\n",
    "import tensorflow as tf"
   ]
  },
  {
   "cell_type": "code",
   "execution_count": 16,
   "id": "26f117c6",
   "metadata": {},
   "outputs": [],
   "source": []
  },
  {
   "cell_type": "code",
   "execution_count": 19,
   "id": "892ad32a",
   "metadata": {},
   "outputs": [
    {
     "name": "stdout",
     "output_type": "stream",
     "text": [
      "188/188 [==============================] - 1s 3ms/step\n",
      "188/188 [==============================] - 1s 3ms/step\n",
      "188/188 [==============================] - 1s 3ms/step\n",
      "188/188 [==============================] - 1s 3ms/step\n",
      "188/188 [==============================] - 1s 3ms/step\n",
      "188/188 [==============================] - 1s 4ms/step\n",
      "188/188 [==============================] - 1s 3ms/step\n",
      "188/188 [==============================] - 1s 3ms/step\n",
      "188/188 [==============================] - 1s 3ms/step\n",
      "188/188 [==============================] - 1s 3ms/step\n",
      "188/188 [==============================] - 1s 3ms/step\n",
      "188/188 [==============================] - 1s 3ms/step\n",
      "188/188 [==============================] - 1s 3ms/step\n",
      "188/188 [==============================] - 1s 3ms/step\n",
      "188/188 [==============================] - 1s 3ms/step\n",
      "188/188 [==============================] - 1s 3ms/step\n",
      "188/188 [==============================] - 1s 3ms/step\n",
      "188/188 [==============================] - 1s 3ms/step\n",
      "188/188 [==============================] - 1s 2ms/step\n",
      "188/188 [==============================] - 1s 3ms/step\n",
      "t-statistic: -4.54838709677424\n",
      "P-value: 0.0013891401317366048\n",
      "There is a significant difference in the accuracies of the two models.\n"
     ]
    }
   ],
   "source": []
  },
  {
   "cell_type": "code",
   "execution_count": 18,
   "id": "e7a05390",
   "metadata": {},
   "outputs": [
    {
     "name": "stdout",
     "output_type": "stream",
     "text": [
      "(10000, 28, 28) (6000,)\n"
     ]
    }
   ],
   "source": [
    "print(x_test.shape, y_test.shape)"
   ]
  },
  {
   "cell_type": "code",
   "execution_count": null,
   "id": "13b2b17b",
   "metadata": {},
   "outputs": [],
   "source": []
  }
 ],
 "metadata": {
  "kernelspec": {
   "display_name": "Python 3 (ipykernel)",
   "language": "python",
   "name": "python3"
  },
  "language_info": {
   "codemirror_mode": {
    "name": "ipython",
    "version": 3
   },
   "file_extension": ".py",
   "mimetype": "text/x-python",
   "name": "python",
   "nbconvert_exporter": "python",
   "pygments_lexer": "ipython3",
   "version": "3.9.16"
  }
 },
 "nbformat": 4,
 "nbformat_minor": 5
}
